{
 "cells": [
  {
   "cell_type": "code",
   "execution_count": 15,
   "id": "7e643406",
   "metadata": {},
   "outputs": [
    {
     "name": "stdout",
     "output_type": "stream",
     "text": [
      "Collecting fake_useragent\n",
      "  Downloading fake_useragent-1.2.1-py3-none-any.whl (14 kB)\n",
      "Installing collected packages: fake_useragent\n",
      "Successfully installed fake_useragent-1.2.1\n"
     ]
    }
   ],
   "source": [
    "!pip install fake_useragent"
   ]
  },
  {
   "cell_type": "code",
   "execution_count": 16,
   "id": "a6e1cfec",
   "metadata": {},
   "outputs": [],
   "source": [
    "import pandas as pd\n",
    "from bs4 import BeautifulSoup\n",
    "import requests\n",
    "from fake_useragent import UserAgent"
   ]
  },
  {
   "cell_type": "code",
   "execution_count": 17,
   "id": "f2e54b0b",
   "metadata": {},
   "outputs": [],
   "source": [
    "input_file= 'F:/Blackcoffer assignment/Input.xlsx'\n",
    "df=pd.read_excel(input_file)"
   ]
  },
  {
   "cell_type": "code",
   "execution_count": 18,
   "id": "74d9be2e",
   "metadata": {},
   "outputs": [
    {
     "data": {
      "text/html": [
       "<div>\n",
       "<style scoped>\n",
       "    .dataframe tbody tr th:only-of-type {\n",
       "        vertical-align: middle;\n",
       "    }\n",
       "\n",
       "    .dataframe tbody tr th {\n",
       "        vertical-align: top;\n",
       "    }\n",
       "\n",
       "    .dataframe thead th {\n",
       "        text-align: right;\n",
       "    }\n",
       "</style>\n",
       "<table border=\"1\" class=\"dataframe\">\n",
       "  <thead>\n",
       "    <tr style=\"text-align: right;\">\n",
       "      <th></th>\n",
       "      <th>URL_ID</th>\n",
       "      <th>URL</th>\n",
       "    </tr>\n",
       "  </thead>\n",
       "  <tbody>\n",
       "    <tr>\n",
       "      <th>0</th>\n",
       "      <td>123.0</td>\n",
       "      <td>https://insights.blackcoffer.com/rise-of-telem...</td>\n",
       "    </tr>\n",
       "    <tr>\n",
       "      <th>1</th>\n",
       "      <td>321.0</td>\n",
       "      <td>https://insights.blackcoffer.com/rise-of-e-hea...</td>\n",
       "    </tr>\n",
       "    <tr>\n",
       "      <th>2</th>\n",
       "      <td>2345.0</td>\n",
       "      <td>https://insights.blackcoffer.com/rise-of-e-hea...</td>\n",
       "    </tr>\n",
       "    <tr>\n",
       "      <th>3</th>\n",
       "      <td>4321.0</td>\n",
       "      <td>https://insights.blackcoffer.com/rise-of-telem...</td>\n",
       "    </tr>\n",
       "    <tr>\n",
       "      <th>4</th>\n",
       "      <td>432.0</td>\n",
       "      <td>https://insights.blackcoffer.com/rise-of-telem...</td>\n",
       "    </tr>\n",
       "  </tbody>\n",
       "</table>\n",
       "</div>"
      ],
      "text/plain": [
       "   URL_ID                                                URL\n",
       "0   123.0  https://insights.blackcoffer.com/rise-of-telem...\n",
       "1   321.0  https://insights.blackcoffer.com/rise-of-e-hea...\n",
       "2  2345.0  https://insights.blackcoffer.com/rise-of-e-hea...\n",
       "3  4321.0  https://insights.blackcoffer.com/rise-of-telem...\n",
       "4   432.0  https://insights.blackcoffer.com/rise-of-telem..."
      ]
     },
     "execution_count": 18,
     "metadata": {},
     "output_type": "execute_result"
    }
   ],
   "source": [
    "df.head()"
   ]
  },
  {
   "cell_type": "code",
   "execution_count": 19,
   "id": "18cc73a6",
   "metadata": {},
   "outputs": [],
   "source": [
    "# Function to find if there is any error in URL \n",
    "urls = df['URL'].tolist()\n",
    "status = []\n",
    "\n",
    "## initializing the UserAgent object\n",
    "user_agent = UserAgent()\n",
    "\n",
    "for url in urls:\n",
    "    try:\n",
    "        r = requests.get(url,headers={\"user-agent\": user_agent.chrome})\n",
    "        r.raise_for_status()\n",
    "    except (requests.exceptions.ConnectionError, requests.exceptions.Timeout):\n",
    "        status.append(\"Down\")\n",
    "    except requests.exceptions.HTTPError:\n",
    "        status.append(\"HTTP error\")\n",
    "    else:\n",
    "        status.append(\"All good\")\n",
    "df['status'] = status\n",
    "     "
   ]
  },
  {
   "cell_type": "code",
   "execution_count": 24,
   "id": "e3a21dc9",
   "metadata": {},
   "outputs": [
    {
     "data": {
      "text/html": [
       "<div>\n",
       "<style scoped>\n",
       "    .dataframe tbody tr th:only-of-type {\n",
       "        vertical-align: middle;\n",
       "    }\n",
       "\n",
       "    .dataframe tbody tr th {\n",
       "        vertical-align: top;\n",
       "    }\n",
       "\n",
       "    .dataframe thead th {\n",
       "        text-align: right;\n",
       "    }\n",
       "</style>\n",
       "<table border=\"1\" class=\"dataframe\">\n",
       "  <thead>\n",
       "    <tr style=\"text-align: right;\">\n",
       "      <th></th>\n",
       "      <th>URL_ID</th>\n",
       "      <th>URL</th>\n",
       "      <th>status</th>\n",
       "    </tr>\n",
       "  </thead>\n",
       "  <tbody>\n",
       "    <tr>\n",
       "      <th>24</th>\n",
       "      <td>11668.0</td>\n",
       "      <td>https://insights.blackcoffer.com/how-neural-ne...</td>\n",
       "      <td>HTTP error</td>\n",
       "    </tr>\n",
       "    <tr>\n",
       "      <th>37</th>\n",
       "      <td>17671.4</td>\n",
       "      <td>https://insights.blackcoffer.com/covid-19-envi...</td>\n",
       "      <td>HTTP error</td>\n",
       "    </tr>\n",
       "  </tbody>\n",
       "</table>\n",
       "</div>"
      ],
      "text/plain": [
       "     URL_ID                                                URL      status\n",
       "24  11668.0  https://insights.blackcoffer.com/how-neural-ne...  HTTP error\n",
       "37  17671.4  https://insights.blackcoffer.com/covid-19-envi...  HTTP error"
      ]
     },
     "execution_count": 24,
     "metadata": {},
     "output_type": "execute_result"
    }
   ],
   "source": [
    "df.loc[df['status']=='HTTP error']"
   ]
  },
  {
   "cell_type": "code",
   "execution_count": 23,
   "id": "1b5c3c7f",
   "metadata": {},
   "outputs": [
    {
     "data": {
      "text/html": [
       "<div>\n",
       "<style scoped>\n",
       "    .dataframe tbody tr th:only-of-type {\n",
       "        vertical-align: middle;\n",
       "    }\n",
       "\n",
       "    .dataframe tbody tr th {\n",
       "        vertical-align: top;\n",
       "    }\n",
       "\n",
       "    .dataframe thead th {\n",
       "        text-align: right;\n",
       "    }\n",
       "</style>\n",
       "<table border=\"1\" class=\"dataframe\">\n",
       "  <thead>\n",
       "    <tr style=\"text-align: right;\">\n",
       "      <th></th>\n",
       "      <th>URL_ID</th>\n",
       "      <th>URL</th>\n",
       "      <th>status</th>\n",
       "    </tr>\n",
       "  </thead>\n",
       "  <tbody>\n",
       "    <tr>\n",
       "      <th>0</th>\n",
       "      <td>123.0</td>\n",
       "      <td>https://insights.blackcoffer.com/rise-of-telem...</td>\n",
       "      <td>All good</td>\n",
       "    </tr>\n",
       "    <tr>\n",
       "      <th>1</th>\n",
       "      <td>321.0</td>\n",
       "      <td>https://insights.blackcoffer.com/rise-of-e-hea...</td>\n",
       "      <td>All good</td>\n",
       "    </tr>\n",
       "    <tr>\n",
       "      <th>2</th>\n",
       "      <td>2345.0</td>\n",
       "      <td>https://insights.blackcoffer.com/rise-of-e-hea...</td>\n",
       "      <td>All good</td>\n",
       "    </tr>\n",
       "    <tr>\n",
       "      <th>3</th>\n",
       "      <td>4321.0</td>\n",
       "      <td>https://insights.blackcoffer.com/rise-of-telem...</td>\n",
       "      <td>All good</td>\n",
       "    </tr>\n",
       "    <tr>\n",
       "      <th>4</th>\n",
       "      <td>432.0</td>\n",
       "      <td>https://insights.blackcoffer.com/rise-of-telem...</td>\n",
       "      <td>All good</td>\n",
       "    </tr>\n",
       "    <tr>\n",
       "      <th>...</th>\n",
       "      <td>...</td>\n",
       "      <td>...</td>\n",
       "      <td>...</td>\n",
       "    </tr>\n",
       "    <tr>\n",
       "      <th>109</th>\n",
       "      <td>50921.0</td>\n",
       "      <td>https://insights.blackcoffer.com/coronavirus-i...</td>\n",
       "      <td>All good</td>\n",
       "    </tr>\n",
       "    <tr>\n",
       "      <th>110</th>\n",
       "      <td>51382.8</td>\n",
       "      <td>https://insights.blackcoffer.com/coronavirus-i...</td>\n",
       "      <td>All good</td>\n",
       "    </tr>\n",
       "    <tr>\n",
       "      <th>111</th>\n",
       "      <td>51844.6</td>\n",
       "      <td>https://insights.blackcoffer.com/what-are-the-...</td>\n",
       "      <td>All good</td>\n",
       "    </tr>\n",
       "    <tr>\n",
       "      <th>112</th>\n",
       "      <td>52306.4</td>\n",
       "      <td>https://insights.blackcoffer.com/marketing-dri...</td>\n",
       "      <td>All good</td>\n",
       "    </tr>\n",
       "    <tr>\n",
       "      <th>113</th>\n",
       "      <td>52768.2</td>\n",
       "      <td>https://insights.blackcoffer.com/continued-dem...</td>\n",
       "      <td>All good</td>\n",
       "    </tr>\n",
       "  </tbody>\n",
       "</table>\n",
       "<p>112 rows × 3 columns</p>\n",
       "</div>"
      ],
      "text/plain": [
       "      URL_ID                                                URL    status\n",
       "0      123.0  https://insights.blackcoffer.com/rise-of-telem...  All good\n",
       "1      321.0  https://insights.blackcoffer.com/rise-of-e-hea...  All good\n",
       "2     2345.0  https://insights.blackcoffer.com/rise-of-e-hea...  All good\n",
       "3     4321.0  https://insights.blackcoffer.com/rise-of-telem...  All good\n",
       "4      432.0  https://insights.blackcoffer.com/rise-of-telem...  All good\n",
       "..       ...                                                ...       ...\n",
       "109  50921.0  https://insights.blackcoffer.com/coronavirus-i...  All good\n",
       "110  51382.8  https://insights.blackcoffer.com/coronavirus-i...  All good\n",
       "111  51844.6  https://insights.blackcoffer.com/what-are-the-...  All good\n",
       "112  52306.4  https://insights.blackcoffer.com/marketing-dri...  All good\n",
       "113  52768.2  https://insights.blackcoffer.com/continued-dem...  All good\n",
       "\n",
       "[112 rows x 3 columns]"
      ]
     },
     "execution_count": 23,
     "metadata": {},
     "output_type": "execute_result"
    }
   ],
   "source": [
    "df.loc[df['status']=='All good']"
   ]
  },
  {
   "cell_type": "code",
   "execution_count": 26,
   "id": "21339d3e",
   "metadata": {},
   "outputs": [
    {
     "name": "stdout",
     "output_type": "stream",
     "text": [
      "Error for URL: https://insights.blackcoffer.com/how-neural-networks-can-be-applied-in-various-areas-in-the-future/. Skipping...\n",
      "Error for URL: https://insights.blackcoffer.com/covid-19-environmental-impact-for-the-future/. Skipping...\n"
     ]
    }
   ],
   "source": [
    "for index, row in df.iterrows():\n",
    "    url = row['URL']\n",
    "    url_id = row['URL_ID']\n",
    "    \n",
    "    retry_count = 0\n",
    "    max_retries = 3\n",
    "    \n",
    "    while retry_count < max_retries:\n",
    "        try:\n",
    "            response = requests.get(url)\n",
    "            response.raise_for_status()  # Raises an exception if HTTP request returned an unsuccessful status code\n",
    "            soup = BeautifulSoup(response.text, 'html.parser')\n",
    "            \n",
    "            article_title = soup.find('title').get_text()  # Extract title\n",
    "            article_text = ''  # Initialize article text\n",
    "            \n",
    "            paragraphs = soup.find_all('p')\n",
    "            for paragraph in paragraphs:\n",
    "                article_text += paragraph.get_text() + '\\n'\n",
    "            \n",
    "            # Save article text to a text file\n",
    "            with open(f'{url_id}.txt', 'w', encoding='utf-8') as f:\n",
    "                f.write(article_title + '\\n' + article_text)\n",
    "            \n",
    "            break  # Break the loop if successful\n",
    "        except requests.exceptions.ConnectionError as e:\n",
    "            print(f\"Connection error for URL: {url}. Retrying...\")\n",
    "            retry_count += 1\n",
    "            time.sleep(1)  # Add a small delay before retrying\n",
    "        except requests.exceptions.RequestException as e:\n",
    "            print(f\"Error for URL: {url}. Skipping...\")\n",
    "            break  # Break the loop if a different error occurs\n"
   ]
  },
  {
   "cell_type": "code",
   "execution_count": null,
   "id": "4807ce1a",
   "metadata": {},
   "outputs": [],
   "source": []
  }
 ],
 "metadata": {
  "kernelspec": {
   "display_name": "Python 3 (ipykernel)",
   "language": "python",
   "name": "python3"
  },
  "language_info": {
   "codemirror_mode": {
    "name": "ipython",
    "version": 3
   },
   "file_extension": ".py",
   "mimetype": "text/x-python",
   "name": "python",
   "nbconvert_exporter": "python",
   "pygments_lexer": "ipython3",
   "version": "3.10.9"
  }
 },
 "nbformat": 4,
 "nbformat_minor": 5
}
